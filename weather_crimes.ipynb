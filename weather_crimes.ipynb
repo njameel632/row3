{
 "cells": [
  {
   "cell_type": "code",
   "execution_count": null,
   "metadata": {},
   "outputs": [],
   "source": [
    "import pandas as pd\n",
    "import numpy as np\n",
    "from datetime import datetime\n"
   ]
  },
  {
   "cell_type": "code",
   "execution_count": null,
   "metadata": {},
   "outputs": [],
   "source": [
    "crime_csv_path = \"/Users/mignonduplessis/Downloads/Chicago_Crimes_2012_to_2017.csv\"\n",
    "weather_csv_path = \"/Users/mignonduplessis/Documents/BootCampRep/row3/ChicagoDailyWeather.csv\"\n",
    "crime_type_path = \"/Users/mignonduplessis/Documents/BootCampRep/row3/CrimeType.csv\""
   ]
  },
  {
   "cell_type": "code",
   "execution_count": null,
   "metadata": {},
   "outputs": [],
   "source": [
    "weather_df = pd.read_csv(weather_csv_path)\n",
    "crimes_df = pd.read_csv(crime_csv_path)\n",
    "crime_type = pd.read_csv(crime_type_path)"
   ]
  },
  {
   "cell_type": "code",
   "execution_count": null,
   "metadata": {},
   "outputs": [],
   "source": [
    "weather_df['DATE']=pd.to_datetime(weather_df['DATE'], format='%Y/%m/%d')\n",
    "\n",
    "date1 = datetime.strptime('2012-01-01', '%Y-%m-%d')\n",
    "date2 = datetime.strptime('2016-12-31', '%Y-%m-%d')\n",
    "\n",
    "weather = weather_df.loc[(weather_df['DATE']>=date1) & (weather_df['DATE']<=date2)]\n",
    "org_weather = weather.drop(['AWND', 'WDF2','STATION','FMTM', 'NAME','TAVG','TSUN', 'WDF5', 'WSF2', 'WSF5','WT01','WT02',\n",
    "                            'WT03','WT04','WT05','WT08','WT09'], axis = 1)\n",
    "new_weather = org_weather.rename(columns={\"DATE\": \"Date\"})\n",
    "new_weather.head()"
   ]
  },
  {
   "cell_type": "code",
   "execution_count": null,
   "metadata": {},
   "outputs": [],
   "source": [
    "new_weather.dtypes"
   ]
  },
  {
   "cell_type": "code",
   "execution_count": null,
   "metadata": {},
   "outputs": [],
   "source": [
    "#org_weather = weather_df[['DATE', 'TAVG', 'TMAX', 'TMIN']].set_index(['DATE'])\n",
    "#weather = org_weather.loc['2012-01-01':'2017-12-31']\n",
    "#weather.head()"
   ]
  },
  {
   "cell_type": "code",
   "execution_count": null,
   "metadata": {},
   "outputs": [],
   "source": [
    "crimes_df.dtypes"
   ]
  },
  {
   "cell_type": "code",
   "execution_count": null,
   "metadata": {},
   "outputs": [],
   "source": [
    "crimes_df.columns\n",
    "org_crimes = crimes_df.drop(['Ward', 'Community Area', 'FBI Code',\n",
    "       'X Coordinate', 'Y Coordinate', 'Year', 'Updated On', 'Latitude',\n",
    "       'Longitude', 'Location', 'Unnamed: 0', 'ID', 'Block', 'IUCR', 'Beat', 'District'], axis = 1)\n",
    "\n",
    "\n",
    "org_crimes.head()\n"
   ]
  },
  {
   "cell_type": "code",
   "execution_count": null,
   "metadata": {},
   "outputs": [],
   "source": [
    "#org_crimes.dtypes"
   ]
  },
  {
   "cell_type": "code",
   "execution_count": null,
   "metadata": {},
   "outputs": [],
   "source": [
    "org_crimes['Date'] = pd.to_datetime(org_crimes['Date'])\n",
    "org_crimes.head()"
   ]
  },
  {
   "cell_type": "code",
   "execution_count": null,
   "metadata": {},
   "outputs": [],
   "source": [
    "org_crimes.dtypes"
   ]
  },
  {
   "cell_type": "code",
   "execution_count": null,
   "metadata": {},
   "outputs": [],
   "source": [
    "org_crimes['Date'] = pd.to_datetime(org_crimes['Date']).dt.date\n",
    "org_crimes.dtypes"
   ]
  },
  {
   "cell_type": "code",
   "execution_count": null,
   "metadata": {},
   "outputs": [],
   "source": [
    "org_crimes['Date'] = pd.to_datetime(org_crimes['Date'])\n",
    "org_crimes.dtypes"
   ]
  },
  {
   "cell_type": "code",
   "execution_count": null,
   "metadata": {},
   "outputs": [],
   "source": [
    "## Merging 2 Datasets\n",
    "\n",
    "weather_crime = pd.merge(org_crimes,new_weather, on=\"Date\", how = 'outer')\n",
    "weather_crime.dropna(how = 'any')\n",
    "weather_crime.count()"
   ]
  },
  {
   "cell_type": "code",
   "execution_count": null,
   "metadata": {},
   "outputs": [],
   "source": [
    "weather_crime = weather_crime.dropna(how = 'any')\n",
    "weather_crime.count()"
   ]
  },
  {
   "cell_type": "code",
   "execution_count": null,
   "metadata": {},
   "outputs": [],
   "source": [
    "weather_crime.head()"
   ]
  },
  {
   "cell_type": "code",
   "execution_count": null,
   "metadata": {},
   "outputs": [],
   "source": [
    "#Get monthly high temperatures over the course of the 5 years\n",
    "avg_df = weather_crime.loc[:,[\"Date\", \"TMAX\"]]\n",
    "avg_df['Year'] = pd.DatetimeIndex(avg_df[\"Date\"]).year\n",
    "avg_df['Month'] = pd.DatetimeIndex(avg_df[\"Date\"]).month\n",
    "\n",
    "Monthly_high = pd.DataFrame(avg_df.groupby(['Year', 'Month']).mean()['TMAX'])\n",
    "Monthly_high.rename(columns = {'TMAX':'Monthly avg TMAX'}, inplace = True)\n",
    "\n",
    "Monthly_high.head()\n",
    " "
   ]
  },
  {
   "cell_type": "code",
   "execution_count": null,
   "metadata": {},
   "outputs": [],
   "source": [
    "#get the daily avg temp\n",
    "avg_daily = weather_crime.loc[:,[\"Date\", \"TMAX\", \"TMIN\"]]\n",
    "maxtemp = weather_crime[\"TMAX\"]\n",
    "mintemp = weather_crime[\"TMIN\"]\n",
    "total_avg = maxtemp + mintemp / 2\n",
    "avg_daily['Daily Average Temp'] = total_avg \n",
    "avg_daily.head()"
   ]
  },
  {
   "cell_type": "code",
   "execution_count": null,
   "metadata": {},
   "outputs": [],
   "source": [
    "#5 Categories (Cold, Mild, Warm, Very Warm, Hot) \n",
    "#Below 32 Degrees Fahrenheit : Cold\n",
    "#33 to 65 Degrees Fahrenheit: Mild\n",
    "#66 to 75 Degrees Fahrenheit: Warm\n",
    "#76 to 85 Degrees Fahrenheit: Very Warm\n",
    "#Above 85 Degrees: Hot\n",
    "\n",
    "#create function to filter through data\n",
    "\n",
    "def f(row):\n",
    "\n",
    "    if row['Daily Average Temp'] <= 32:\n",
    "\n",
    "        val = 'Cold'\n",
    "\n",
    "    elif row['Daily Average Temp'] <= 65:\n",
    "\n",
    "        val = 'Mild'\n",
    "        \n",
    "    elif row['Daily Average Temp'] <= 75:\n",
    "\n",
    "        val = 'Warm'\n",
    "        \n",
    "    elif row['Daily Average Temp'] <= 85:\n",
    "\n",
    "        val = 'Very warm'\n",
    "\n",
    "    else:\n",
    "\n",
    "        val = 'Hot'\n",
    "\n",
    "    return val\n",
    "\n"
   ]
  },
  {
   "cell_type": "code",
   "execution_count": null,
   "metadata": {},
   "outputs": [],
   "source": [
    "#apply function & create new column for the return values\n",
    "avg_daily['Category'] = avg_daily.apply(f, axis=1)\n",
    "avg_daily.head()\n"
   ]
  },
  {
   "cell_type": "code",
   "execution_count": null,
   "metadata": {},
   "outputs": [],
   "source": [
    "#4 Categories (Fall, Winter, Spring, Summer) \n",
    "#Fall: 09 to 11 \n",
    "#Winter: 11 to 3\n",
    "#Spring: 3 to 5\n",
    "#Summer: 06 to 8\n",
    "\n",
    "\n",
    "#adding year and month to average daily weather dataframe to create the season by month dataframe\n",
    "season_df = avg_daily.loc[:,[\"Date\", \"TMAX\",\"TMIN\",\"Daily Average Temp\",\"Category\"]]\n",
    "season_df['Year'] = pd.DatetimeIndex(season_df[\"Date\"]).year\n",
    "season_df['Month'] = pd.DatetimeIndex(season_df[\"Date\"]).month\n",
    "\n",
    "season_df.head()"
   ]
  },
  {
   "cell_type": "code",
   "execution_count": null,
   "metadata": {},
   "outputs": [],
   "source": [
    "#create function to filter through data\n",
    "\n",
    "def I(row):\n",
    "\n",
    "    if row['Month'] <=3:\n",
    "\n",
    "        val = 'Winter'\n",
    "\n",
    "    elif row['Month'] <= 5:\n",
    "\n",
    "        val = 'Spring'\n",
    "        \n",
    "    elif row['Month'] <= 8:\n",
    "\n",
    "        val = 'Summer'\n",
    "        \n",
    "    elif row['Month'] <= 11:\n",
    "\n",
    "        val = 'Fall'\n",
    "\n",
    "    else:\n",
    "\n",
    "        val = 'Winter'\n",
    "\n",
    "    return val\n"
   ]
  },
  {
   "cell_type": "code",
   "execution_count": null,
   "metadata": {},
   "outputs": [],
   "source": [
    "#apply function & create new column for the return values\n",
    "\n",
    "season_df['Season'] = season_df.apply(I, axis=1)\n",
    "season_df.head()"
   ]
  },
  {
   "cell_type": "code",
   "execution_count": null,
   "metadata": {},
   "outputs": [],
   "source": [
    "\n",
    "crime_typedf = pd.merge(weather_crime,crime_type, on=\"Primary Type\", how = 'outer')\n",
    "crime_typedf.dropna(how = 'any')\n",
    "crime_typedf.head()"
   ]
  },
  {
   "cell_type": "code",
   "execution_count": null,
   "metadata": {},
   "outputs": [],
   "source": []
  }
 ],
 "metadata": {
  "kernelspec": {
   "display_name": "Python 3",
   "language": "python",
   "name": "python3"
  },
  "language_info": {
   "codemirror_mode": {
    "name": "ipython",
    "version": 3
   },
   "file_extension": ".py",
   "mimetype": "text/x-python",
   "name": "python",
   "nbconvert_exporter": "python",
   "pygments_lexer": "ipython3",
   "version": "3.7.4"
  }
 },
 "nbformat": 4,
 "nbformat_minor": 2
}
